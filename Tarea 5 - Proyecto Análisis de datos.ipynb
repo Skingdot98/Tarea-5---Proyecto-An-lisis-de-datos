{
 "cells": [
  {
   "cell_type": "code",
   "execution_count": 1,
   "id": "32d04809-32e8-47e2-a158-01c2e5caee5c",
   "metadata": {},
   "outputs": [
    {
     "name": "stdout",
     "output_type": "stream",
     "text": [
      "C:\\Users\\Skigdot\n"
     ]
    }
   ],
   "source": [
    "import os\n",
    "print(os.getcwd())"
   ]
  },
  {
   "cell_type": "code",
   "execution_count": 37,
   "id": "92499bd1-f119-4b46-a04c-785fa4621d05",
   "metadata": {},
   "outputs": [],
   "source": [
    "# Importar librerías necesarias\n",
    "import pandas as pd\n",
    "import numpy as np\n",
    "import seaborn as sns\n",
    "import matplotlib.pyplot as plt\n",
    "from sklearn.model_selection import train_test_split\n",
    "from sklearn.linear_model import LogisticRegression\n",
    "from sklearn.metrics import accuracy_score, precision_score, recall_score, f1_score, confusion_matrix\n",
    "from sklearn.impute import SimpleImputer\n",
    "\n",
    "# Cargar el conjunto de datos\n",
    "data = pd.read_csv('C:/Users/Skigdot/Documents/UNAD/PERIODO 16-01/ANÁLISIS DE DATOS/Tarea 5/Titanic-Dataset.csv')"
   ]
  },
  {
   "cell_type": "code",
   "execution_count": 58,
   "id": "3ef4e45d-669f-45c9-a1a4-2272940c6a65",
   "metadata": {},
   "outputs": [
    {
     "name": "stdout",
     "output_type": "stream",
     "text": [
      "   PassengerId  Survived  Pclass  \\\n",
      "0            1         0       3   \n",
      "1            2         1       1   \n",
      "2            3         1       3   \n",
      "3            4         1       1   \n",
      "4            5         0       3   \n",
      "\n",
      "                                                Name     Sex   Age  SibSp  \\\n",
      "0                            Braund, Mr. Owen Harris    male  22.0      1   \n",
      "1  Cumings, Mrs. John Bradley (Florence Briggs Th...  female  38.0      1   \n",
      "2                             Heikkinen, Miss. Laina  female  26.0      0   \n",
      "3       Futrelle, Mrs. Jacques Heath (Lily May Peel)  female  35.0      1   \n",
      "4                           Allen, Mr. William Henry    male  35.0      0   \n",
      "\n",
      "   Parch            Ticket     Fare Cabin Embarked  \n",
      "0      0         A/5 21171   7.2500   NaN        S  \n",
      "1      0          PC 17599  71.2833   C85        C  \n",
      "2      0  STON/O2. 3101282   7.9250   NaN        S  \n",
      "3      0            113803  53.1000  C123        S  \n",
      "4      0            373450   8.0500   NaN        S  \n",
      "       PassengerId    Survived      Pclass         Age       SibSp  \\\n",
      "count   891.000000  891.000000  891.000000  714.000000  891.000000   \n",
      "mean    446.000000    0.383838    2.308642   29.699118    0.523008   \n",
      "std     257.353842    0.486592    0.836071   14.526497    1.102743   \n",
      "min       1.000000    0.000000    1.000000    0.420000    0.000000   \n",
      "25%     223.500000    0.000000    2.000000   20.125000    0.000000   \n",
      "50%     446.000000    0.000000    3.000000   28.000000    0.000000   \n",
      "75%     668.500000    1.000000    3.000000   38.000000    1.000000   \n",
      "max     891.000000    1.000000    3.000000   80.000000    8.000000   \n",
      "\n",
      "            Parch        Fare  \n",
      "count  891.000000  891.000000  \n",
      "mean     0.381594   32.204208  \n",
      "std      0.806057   49.693429  \n",
      "min      0.000000    0.000000  \n",
      "25%      0.000000    7.910400  \n",
      "50%      0.000000   14.454200  \n",
      "75%      0.000000   31.000000  \n",
      "max      6.000000  512.329200  \n",
      "Sex\n",
      "male      577\n",
      "female    314\n",
      "Name: count, dtype: int64\n",
      "Embarked\n",
      "S    644\n",
      "C    168\n",
      "Q     77\n",
      "Name: count, dtype: int64\n"
     ]
    },
    {
     "data": {
      "image/png": "[encoded data removed]",
      "text/plain": [
       "<Figure size 640x480 with 1 Axes>"
      ]
     },
     "metadata": {},
     "output_type": "display_data"
    }
   ],
   "source": [
    "# Paso 1: Análisis Exploratorio de Datos\n",
    "\n",
    "# Importar bibliotecas necesarias\n",
    "import pandas as pd\n",
    "\n",
    "# Cargar el conjunto de datos\n",
    "data = pd.read_csv('C:/Users/Skigdot/Documents/UNAD/PERIODO 16-01/ANÁLISIS DE DATOS/Tarea 5/Titanic-Dataset.csv')\n",
    "\n",
    "# Visualizar las primeras filas del conjunto de datos\n",
    "print(data.head())\n",
    "\n",
    "# Resumen estadístico del conjunto de datos\n",
    "print(data.describe())\n",
    "\n",
    "# Conteo de valores únicos en variables categóricas\n",
    "# Por ejemplo, para las columnas 'Sex' y 'Embarked'\n",
    "print(data['Sex'].value_counts())\n",
    "print(data['Embarked'].value_counts())\n",
    "\n",
    "# Visualización de relaciones entre variables\n",
    "# Por ejemplo, aquí hay un ejemplo de un gráfico de barras para la columna 'Sex'\n",
    "import seaborn as sns\n",
    "import matplotlib.pyplot as plt\n",
    "\n",
    "sns.countplot(x='Sex', data=data)\n",
    "plt.show()"
   ]
  },
  {
   "cell_type": "code",
   "execution_count": 68,
   "id": "2d897e62-b50a-4db2-b4f0-4189c964b75b",
   "metadata": {},
   "outputs": [
    {
     "name": "stdout",
     "output_type": "stream",
     "text": [
      "    PassengerId  Survived  Pclass  \\\n",
      "1           2.0       1.0     1.0   \n",
      "3           4.0       1.0     1.0   \n",
      "6           7.0       0.0     1.0   \n",
      "10         11.0       1.0     3.0   \n",
      "11         12.0       1.0     1.0   \n",
      "\n",
      "                                                 Name   Age  SibSp  Parch  \\\n",
      "1   Cumings, Mrs. John Bradley (Florence Briggs Th...  38.0    1.0    0.0   \n",
      "3        Futrelle, Mrs. Jacques Heath (Lily May Peel)  35.0    1.0    0.0   \n",
      "6                             McCarthy, Mr. Timothy J  54.0    0.0    0.0   \n",
      "10                    Sandstrom, Miss. Marguerite Rut   4.0    1.0    1.0   \n",
      "11                           Bonnell, Miss. Elizabeth  58.0    0.0    0.0   \n",
      "\n",
      "      Ticket     Fare Cabin  Sex_male  Embarked_Q  Embarked_S  \n",
      "1   PC 17599  71.2833   C85       0.0         0.0         1.0  \n",
      "3     113803  53.1000  C123       0.0         0.0         1.0  \n",
      "6      17463  51.8625   E46       1.0         0.0         1.0  \n",
      "10   PP 9549  16.7000    G6       1.0         0.0         1.0  \n",
      "11    113783  26.5500  C103       0.0         0.0         1.0  \n"
     ]
    },
    {
     "name": "stderr",
     "output_type": "stream",
     "text": [
      "C:\\Users\\Skigdot\\anaconda3\\Lib\\site-packages\\sklearn\\preprocessing\\_encoders.py:868: FutureWarning: `sparse` was renamed to `sparse_output` in version 1.2 and will be removed in 1.4. `sparse_output` is ignored unless you leave `sparse` to its default value.\n",
      "  warnings.warn(\n"
     ]
    }
   ],
   "source": [
    "# PASO 2\n",
    "\n",
    "# Codificar variables categóricas\n",
    "from sklearn.preprocessing import OneHotEncoder\n",
    "\n",
    "# Codificación one-hot para las columnas categóricas 'Sex' y 'Embarked'\n",
    "encoder = OneHotEncoder(drop='first', sparse=False)\n",
    "encoded_data = encoder.fit_transform(data[['Sex', 'Embarked']])\n",
    "\n",
    "# Obtener los nombres de las nuevas columnas codificadas\n",
    "encoded_cols = encoder.get_feature_names_out(['Sex', 'Embarked'])\n",
    "\n",
    "# Crear un DataFrame con los datos codificados y los nuevos nombres de columnas\n",
    "encoded_df = pd.DataFrame(encoded_data, columns=encoded_cols)\n",
    "\n",
    "# Concatenar el DataFrame codificado con el conjunto de datos original\n",
    "data = pd.concat([data, encoded_df], axis=1)\n",
    "\n",
    "# Eliminar las columnas originales 'Sex' y 'Embarked'\n",
    "data.drop(['Sex', 'Embarked'], axis=1, inplace=True)\n",
    "\n",
    "# Mostrar las primeras filas del conjunto de datos después del preprocesamiento\n",
    "print(data.head())"
   ]
  },
  {
   "cell_type": "code",
   "execution_count": 73,
   "id": "727539b6-196a-4f93-b5d0-574dc02ca705",
   "metadata": {},
   "outputs": [
    {
     "name": "stdout",
     "output_type": "stream",
     "text": [
      "  Feature        Score\n",
      "5    Fare  4518.319091\n",
      "1     Sex   170.348127\n",
      "0  Pclass    30.873699\n",
      "2     Age    21.649163\n",
      "4   Parch    10.097499\n",
      "3   SibSp     2.581865\n"
     ]
    }
   ],
   "source": [
    "import pandas as pd\n",
    "from sklearn.feature_selection import SelectKBest\n",
    "from sklearn.feature_selection import chi2\n",
    "\n",
    "# Cargar el dataset del Titanic\n",
    "data = pd.read_csv('C:/Users/Skigdot/Documents/UNAD/PERIODO 16-01/ANÁLISIS DE DATOS/Tarea 5/Titanic-Dataset.csv')\n",
    "\n",
    "# Eliminar columnas irrelevantes o que contienen datos no numéricos\n",
    "data = data.drop(['PassengerId', 'Name', 'Ticket', 'Cabin', 'Embarked'], axis=1)\n",
    "\n",
    "# Convertir la columna 'Sex' en una variable binaria (0 o 1)\n",
    "data['Sex'] = data['Sex'].map({'male': 0, 'female': 1})\n",
    "\n",
    "# Tratar los valores faltantes (por ejemplo, imputando la mediana)\n",
    "data['Age'] = data['Age'].fillna(data['Age'].median())\n",
    "data['Fare'] = data['Fare'].fillna(data['Fare'].median())\n",
    "\n",
    "# Dividir el dataset en características (X) y variable objetivo (y)\n",
    "X = data.drop('Survived', axis=1)\n",
    "y = data['Survived']\n",
    "\n",
    "# Seleccionar las mejores características utilizando la prueba chi-cuadrado\n",
    "best_features = SelectKBest(score_func=chi2, k='all')\n",
    "fit = best_features.fit(X, y)\n",
    "\n",
    "# Obtener las puntuaciones y características seleccionadas\n",
    "scores = pd.DataFrame(fit.scores_)\n",
    "columns = pd.DataFrame(X.columns)\n",
    "\n",
    "# Concatenar puntuaciones y características seleccionadas\n",
    "feature_scores = pd.concat([columns, scores], axis=1)\n",
    "feature_scores.columns = ['Feature', 'Score']\n",
    "\n",
    "# Ordenar las características por puntuación en orden descendente\n",
    "feature_scores = feature_scores.sort_values(by='Score', ascending=False)\n",
    "\n",
    "# Mostrar las características seleccionadas\n",
    "print(feature_scores)"
   ]
  },
  {
   "cell_type": "code",
   "execution_count": 74,
   "id": "eeb39fdb-faec-4b96-bc05-b6911cd3ae4f",
   "metadata": {},
   "outputs": [
    {
     "name": "stdout",
     "output_type": "stream",
     "text": [
      "Forma del conjunto de entrenamiento (X): (623, 6)\n",
      "Forma del conjunto de prueba (X): (268, 6)\n",
      "Forma del conjunto de entrenamiento (y): (623,)\n",
      "Forma del conjunto de prueba (y): (268,)\n"
     ]
    }
   ],
   "source": [
    "from sklearn.model_selection import train_test_split\n",
    "\n",
    "# Dividir el dataset en conjunto de entrenamiento y prueba (por ejemplo, 70% entrenamiento, 30% prueba)\n",
    "X_train, X_test, y_train, y_test = train_test_split(X, y, test_size=0.3, random_state=42)\n",
    "\n",
    "# Verificar las formas de los conjuntos de entrenamiento y prueba\n",
    "print(\"Forma del conjunto de entrenamiento (X):\", X_train.shape)\n",
    "print(\"Forma del conjunto de prueba (X):\", X_test.shape)\n",
    "print(\"Forma del conjunto de entrenamiento (y):\", y_train.shape)\n",
    "print(\"Forma del conjunto de prueba (y):\", y_test.shape)"
   ]
  },
  {
   "cell_type": "code",
   "execution_count": 75,
   "id": "172fd1e6-b2e0-4252-ac6c-224687167c0a",
   "metadata": {},
   "outputs": [
    {
     "name": "stdout",
     "output_type": "stream",
     "text": [
      "Coeficientes del modelo: [[-0.89796723  2.50511225 -0.03408397 -0.28960296 -0.11128099  0.00374911]]\n",
      "Intersección del modelo: [1.63116417]\n"
     ]
    }
   ],
   "source": [
    "from sklearn.linear_model import LogisticRegression\n",
    "\n",
    "# Inicializar el modelo de Regresión Logística\n",
    "model = LogisticRegression()\n",
    "\n",
    "# Entrenar el modelo utilizando el conjunto de entrenamiento\n",
    "model.fit(X_train, y_train)\n",
    "\n",
    "# Imprimir los coeficientes de las características del modelo\n",
    "print(\"Coeficientes del modelo:\", model.coef_)\n",
    "\n",
    "# Imprimir la intersección del modelo\n",
    "print(\"Intersección del modelo:\", model.intercept_)"
   ]
  },
  {
   "cell_type": "code",
   "execution_count": 76,
   "id": "a33a5a59-71e6-4c64-861b-191b8b9ee2f4",
   "metadata": {},
   "outputs": [
    {
     "name": "stdout",
     "output_type": "stream",
     "text": [
      "Accuracy: 0.8134328358208955\n",
      "Precision: 0.8144329896907216\n",
      "Recall: 0.7117117117117117\n",
      "F1 Score: 0.7596153846153846\n"
     ]
    }
   ],
   "source": [
    "from sklearn.metrics import accuracy_score, precision_score, recall_score, f1_score\n",
    "\n",
    "# Predecir las etiquetas del conjunto de prueba\n",
    "y_pred = model.predict(X_test)\n",
    "\n",
    "# Calcular métricas de evaluación\n",
    "accuracy = accuracy_score(y_test, y_pred)\n",
    "precision = precision_score(y_test, y_pred)\n",
    "recall = recall_score(y_test, y_pred)\n",
    "f1 = f1_score(y_test, y_pred)\n",
    "\n",
    "# Imprimir las métricas\n",
    "print(\"Accuracy:\", accuracy)\n",
    "print(\"Precision:\", precision)\n",
    "print(\"Recall:\", recall)\n",
    "print(\"F1 Score:\", f1)"
   ]
  },
  {
   "cell_type": "code",
   "execution_count": 77,
   "id": "bc6ccda5-0eba-4c44-928c-23eeeb4b2b97",
   "metadata": {},
   "outputs": [
    {
     "data": {
      "image/png": "[encoded data removed]",
      "text/plain": [
       "<Figure size 640x480 with 2 Axes>"
      ]
     },
     "metadata": {},
     "output_type": "display_data"
    },
    {
     "data": {
      "image/png": "[encoded data removed]",
      "text/plain": [
       "<Figure size 640x480 with 1 Axes>"
      ]
     },
     "metadata": {},
     "output_type": "display_data"
    }
   ],
   "source": [
    "import matplotlib.pyplot as plt\n",
    "import seaborn as sns\n",
    "from sklearn.metrics import confusion_matrix, roc_curve, roc_auc_score\n",
    "\n",
    "# Matriz de Confusión\n",
    "conf_matrix = confusion_matrix(y_test, y_pred)\n",
    "sns.heatmap(conf_matrix, annot=True, cmap=\"Blues\", fmt=\"d\")\n",
    "plt.title(\"Matriz de Confusión\")\n",
    "plt.xlabel(\"Etiqueta Predicha\")\n",
    "plt.ylabel(\"Etiqueta Verdadera\")\n",
    "plt.show()\n",
    "\n",
    "# Curva ROC\n",
    "y_pred_proba = model.predict_proba(X_test)[:,1]\n",
    "fpr, tpr, thresholds = roc_curve(y_test, y_pred_proba)\n",
    "plt.plot(fpr, tpr, label=\"Curva ROC\")\n",
    "plt.plot([0, 1], [0, 1], linestyle='--', label=\"Línea Base\")\n",
    "plt.xlabel(\"Tasa de Falsos Positivos\")\n",
    "plt.ylabel(\"Tasa de Verdaderos Positivos\")\n",
    "plt.title(\"Curva ROC\")\n",
    "plt.legend()\n",
    "plt.show()"
   ]
  },
  {
   "cell_type": "code",
   "execution_count": 78,
   "id": "4ddbe4f6-c58e-4516-bf1d-ec707a2856b2",
   "metadata": {},
   "outputs": [
    {
     "name": "stdout",
     "output_type": "stream",
     "text": [
      "Interpretación y Análisis de Resultados:\n",
      "El modelo de regresión logística ha alcanzado un accuracy de 0.81.\n",
      "La precisión del modelo es de 0.81.\n",
      "El recall del modelo es de 0.71.\n",
      "El F1-score del modelo es de 0.76.\n",
      "\n",
      "Documentación de Resultados:\n",
      "El modelo de regresión logística entrenado en el dataset del Titanic muestra un desempeño razonable en la predicción de la supervivencia de los pasajeros.\n",
      "El accuracy del modelo indica que el 81.34% de las predicciones son correctas.\n",
      "La precisión del modelo indica que el 81.44% de las personas clasificadas como sobrevivientes realmente sobrevivieron.\n",
      "El recall del modelo indica que el 71.17% de las personas que realmente sobrevivieron fueron identificadas correctamente por el modelo.\n",
      "El F1-score del modelo es una medida combinada de precisión y recall, y su valor indica el equilibrio entre ambas métricas.\n"
     ]
    }
   ],
   "source": [
    "# Interpretación y Análisis de Resultados\n",
    "# Puedes agregar aquí tus observaciones sobre las métricas y gráficos generados\n",
    "print(\"Interpretación y Análisis de Resultados:\")\n",
    "print(\"El modelo de regresión logística ha alcanzado un accuracy de {:.2f}.\".format(accuracy))\n",
    "print(\"La precisión del modelo es de {:.2f}.\".format(precision))\n",
    "print(\"El recall del modelo es de {:.2f}.\".format(recall))\n",
    "print(\"El F1-score del modelo es de {:.2f}.\".format(f1))\n",
    "\n",
    "# Documentación de Resultados\n",
    "# Puedes agregar aquí un resumen de las observaciones y conclusiones alcanzadas\n",
    "print(\"\\nDocumentación de Resultados:\")\n",
    "print(\"El modelo de regresión logística entrenado en el dataset del Titanic muestra un desempeño razonable en la predicción de la supervivencia de los pasajeros.\")\n",
    "print(\"El accuracy del modelo indica que el {:.2f}% de las predicciones son correctas.\".format(accuracy * 100))\n",
    "print(\"La precisión del modelo indica que el {:.2f}% de las personas clasificadas como sobrevivientes realmente sobrevivieron.\".format(precision * 100))\n",
    "print(\"El recall del modelo indica que el {:.2f}% de las personas que realmente sobrevivieron fueron identificadas correctamente por el modelo.\".format(recall * 100))\n",
    "print(\"El F1-score del modelo es una medida combinada de precisión y recall, y su valor indica el equilibrio entre ambas métricas.\")\n"
   ]
  }
 ],
 "metadata": {
  "kernelspec": {
   "display_name": "Python 3 (ipykernel)",
   "language": "python",
   "name": "python3"
  },
  "language_info": {
   "codemirror_mode": {
    "name": "ipython",
    "version": 3
   },
   "file_extension": ".py",
   "mimetype": "text/x-python",
   "name": "python",
   "nbconvert_exporter": "python",
   "pygments_lexer": "ipython3",
   "version": "3.11.7"
  }
 },
 "nbformat": 4,
 "nbformat_minor": 5
}
